{
 "cells": [
  {
   "cell_type": "markdown",
   "metadata": {},
   "source": [
    "## Pokemon Visualization Dataset"
   ]
  },
  {
   "cell_type": "markdown",
   "metadata": {
    "_uuid": "ef75760d95cc57898f0215956b40d97a2aceab97"
   },
   "source": [
    "Let's start by importing all the important packages"
   ]
  },
  {
   "cell_type": "code",
   "execution_count": null,
   "metadata": {
    "_uuid": "6b4c3e4758863a032421137a027a00b97fa0e88f",
    "collapsed": true
   },
   "outputs": [],
   "source": [
    "import pandas as pd   \n",
    "import numpy as np\n",
    "import matplotlib.pyplot as plt\n",
    "import seaborn as sns\n",
    "\n",
    "plt.style.use('bmh')\n",
    "%matplotlib inline\n",
    "plt.rcParams['figure.dpi'] = 100"
   ]
  },
  {
   "cell_type": "markdown",
   "metadata": {
    "_uuid": "d9fffadecb7bdeda3fea4dc66d40a21c80d797da"
   },
   "source": [
    "Now we can load the dataset, let's name the dataframe as** `pokedata`** and take a look at the first and last 5 rows of the dataset to get a general knowledge of the data."
   ]
  },
  {
   "cell_type": "code",
   "execution_count": null,
   "metadata": {
    "_uuid": "40c42e54b3aedbbc4442f89bd4db5dff176cb644"
   },
   "outputs": [],
   "source": [
    "pokedata = pd.read_csv(\"../input/pokemon-with-stats-plus-gen-7/Pokemon_all.csv\")"
   ]
  },
  {
   "cell_type": "code",
   "execution_count": null,
   "metadata": {
    "_uuid": "c775c129eea03683ba0dd264a147a19574c71b63"
   },
   "outputs": [],
   "source": [
    "pokedata.head()                    "
   ]
  },
  {
   "cell_type": "code",
   "execution_count": null,
   "metadata": {
    "_uuid": "eb007087eda9f4e5c03f68537b2ada26c39c544b"
   },
   "outputs": [],
   "source": [
    "pokedata.tail()"
   ]
  },
  {
   "cell_type": "markdown",
   "metadata": {
    "_uuid": "8bb00afb3be04ba7d461b553b17ee1aeead1be05"
   },
   "source": [
    "<a id='clean'></a>\n",
    "## Cleaning the dataset"
   ]
  },
  {
   "cell_type": "markdown",
   "metadata": {
    "_uuid": "b9a684a166dbceacfce4f71ddcf18ee0f7cafab5"
   },
   "source": [
    "If we look carefully at the 10 rows in the dataset above, we can see some problems in the dataset.\n",
    "* Some Pokemon have **`NaN`** values (null values) in the column **`Type 2`**\n",
    "* Some Pokemon have multiple forms and those forms are included in this dataset\n",
    "* In gen 7, the Pokemon type doesn't start with capital letter like all gen before it, Pandas will count this as a different type\n",
    "\n",
    "We need to do some cleaning in the dataset before it is ready to use.  "
   ]
  },
  {
   "cell_type": "markdown",
   "metadata": {
    "_uuid": "9106d5e379594fa880c1d8b7105bc59c326e33c1"
   },
   "source": [
    "I prefer the column name to be in capital letter so I'm gonna change it, it's just my preference though, you can leave them be if you want."
   ]
  },
  {
   "cell_type": "code",
   "execution_count": null,
   "metadata": {
    "_uuid": "2d03fec22caab822b37a267a233d8a8800b1b046",
    "collapsed": true
   },
   "outputs": [],
   "source": [
    "pokedata.columns = pokedata.columns.str.upper()"
   ]
  },
  {
   "cell_type": "markdown",
   "metadata": {
    "_uuid": "28f03513aa4871aaa395fedf37852cc0d0991708"
   },
   "source": [
    "Now let's capitalize only the first letter of the Pokemon type"
   ]
  },
  {
   "cell_type": "code",
   "execution_count": null,
   "metadata": {
    "_uuid": "9d778d7fe28517b20846165ec24858334ffef22d",
    "collapsed": true
   },
   "outputs": [],
   "source": [
    "pokedata['TYPE 1'] = pokedata['TYPE 1'].str.capitalize()\n",
    "pokedata['TYPE 2'] = pokedata['TYPE 2'].str.capitalize()"
   ]
  },
  {
   "cell_type": "markdown",
   "metadata": {
    "_uuid": "48139fafc4ed21f73ed3534ef7cd054b11be6c48"
   },
   "source": [
    "Let's remove the duplicate Pokemon"
   ]
  },
  {
   "cell_type": "code",
   "execution_count": null,
   "metadata": {
    "_uuid": "e2535d3e0d278cd0be33b7dc2e5e312c84d69d42",
    "collapsed": true
   },
   "outputs": [],
   "source": [
    "pokedata.drop_duplicates('#', keep='first', inplace=True)"
   ]
  },
  {
   "cell_type": "markdown",
   "metadata": {
    "_uuid": "35c8cb1c43c697bc5b7ee341b3875d3b354e4d98"
   },
   "source": [
    "Some Pokemon doesn't have secondary type so they have **`NaN`** (null values) in the **`Type 2`** column. Let's fill in the **`null`** values in the **`Type 2`** column by replacing it with **`None`**"
   ]
  },
  {
   "cell_type": "code",
   "execution_count": null,
   "metadata": {
    "_uuid": "75ca9a6b506d5493d6868f6c0c572899b03e57d1",
    "collapsed": true
   },
   "outputs": [],
   "source": [
    "pokedata['TYPE 2'].fillna(value='None', inplace=True)"
   ]
  },
  {
   "cell_type": "markdown",
   "metadata": {
    "_uuid": "65e6dbf5951137bf9ffd3c79af1e76f77e789df7"
   },
   "source": [
    "Now let's take a look at the first and last 5 rows of the dataset one more time"
   ]
  },
  {
   "cell_type": "code",
   "execution_count": null,
   "metadata": {
    "_uuid": "0fb7dc526636b04d17e16897d74184c3201fc4e3"
   },
   "outputs": [],
   "source": [
    "pokedata.head()"
   ]
  },
  {
   "cell_type": "code",
   "execution_count": null,
   "metadata": {
    "_uuid": "4a2e9ef8586a52bf72a2ee3ef8e08a91baf88867"
   },
   "outputs": [],
   "source": [
    "pokedata.tail()"
   ]
  },
  {
   "cell_type": "markdown",
   "metadata": {
    "_uuid": "e7d0903b641f4291ec9223d854509386fb862fb6"
   },
   "source": [
    "The data is much cleaner and now it's ready to use. Now we can do some analysis and visualization.\n"
   ]
  },
  {
   "cell_type": "markdown",
   "metadata": {
    "_uuid": "21c8b346e87789466866f88a0754e74da1499b0d"
   },
   "source": [
    "<a id='pokecount'></a>\n",
    "## Pokemon count in each generation\n",
    "\n",
    "First, let's verify how many Pokemon are there in this dataset"
   ]
  },
  {
   "cell_type": "code",
   "execution_count": null,
   "metadata": {
    "_uuid": "71e1460803dcebadf049dca7e349e720bea3f1aa"
   },
   "outputs": [],
   "source": [
    "pokedata['#'].count()"
   ]
  },
  {
   "cell_type": "markdown",
   "metadata": {
    "_uuid": "4e403ecaa60d61011db663f71a070d9b04949bd7"
   },
   "source": [
    "The number of Pokemon matched with the data  from [**`Bulbapedia`**](https://bulbapedia.bulbagarden.net/wiki/List_of_Pok%C3%A9mon_by_National_Pok%C3%A9dex_number). Now let's see how Pokemon numbers are distributed in each gen."
   ]
  },
  {
   "cell_type": "code",
   "execution_count": null,
   "metadata": {
    "_uuid": "5b2e979c002470a72327524d022df9acc12ac1c4"
   },
   "outputs": [],
   "source": [
    "sns.factorplot(\n",
    "    x='GENERATION', \n",
    "    data=pokedata,\n",
    "    size=5,\n",
    "    aspect=1.2,\n",
    "    kind='count'\n",
    ").set_axis_labels('Generation', '# of Pokemon')\n",
    "\n",
    "plt.show()"
   ]
  },
  {
   "cell_type": "markdown",
   "metadata": {
    "_uuid": "2d85be5bf9123c73cd7c09a291f2068d7af9ebff"
   },
   "source": [
    "The number of Pokemon doesn't seem to have noticeable trend, except that until gen 7, odd-numbered generations always have more Pokemon compared to even-numbered generation"
   ]
  },
  {
   "cell_type": "code",
   "execution_count": null,
   "metadata": {
    "_uuid": "004fb486db88e0e8e01d74be943e9a06ebcd3030"
   },
   "outputs": [],
   "source": [
    "pokedata['LEGENDARY'].value_counts()"
   ]
  },
  {
   "cell_type": "code",
   "execution_count": null,
   "metadata": {
    "_uuid": "fc2d85d80a43df551c764f393696a40db207f6bb"
   },
   "outputs": [],
   "source": [
    "fig = plt.figure(figsize=(7,7))\n",
    "\n",
    "colours = [\"aqua\", \"orange\"]\n",
    "pokeLeg = pokedata[pokedata['LEGENDARY']==True]\n",
    "pokeNon = pokedata[pokedata['LEGENDARY']==False]\n",
    "\n",
    "legDist = [pokeLeg['NAME'].count(),pokeNon['NAME'].count()]\n",
    "legPie = plt.pie(legDist,\n",
    "                 labels= ['Legendary', 'Non Legendary'], \n",
    "                 autopct ='%1.1f%%', \n",
    "                 shadow = True,\n",
    "                 colors=colours,\n",
    "                 startangle = 45,\n",
    "                 explode=(0, 0.1))\n"
   ]
  },
  {
   "cell_type": "markdown",
   "metadata": {
    "_uuid": "d8110a8bf20850580992e2c7175a3fcbdac31d01"
   },
   "source": [
    "So only **`7.2% out of 807`** Pokemon is a legendary Pokemon. Now let's see how they are distributed in each gen."
   ]
  },
  {
   "cell_type": "code",
   "execution_count": null,
   "metadata": {
    "_uuid": "698cf6defa09ab007cf5f343824ecdabbcc4bc07"
   },
   "outputs": [],
   "source": [
    "colours = [\"aqua\", \"orange\"]\n",
    "g = sns.factorplot(\n",
    "    x='GENERATION', \n",
    "    data=pokedata,\n",
    "    kind='count', \n",
    "    hue='LEGENDARY',\n",
    "    palette=colours, \n",
    "    size=5, \n",
    "    aspect=1.5,\n",
    "    legend=False,\n",
    "    ).set_axis_labels('Generation', '# of Pokemon')\n",
    "\n",
    "g.ax.legend(loc='upper center', bbox_to_anchor=(0.5, 1.1),  shadow=True, ncol=2, labels=['NON LEGENDARY','LEGENDARY'])\n",
    "plt.show()\n"
   ]
  },
  {
   "cell_type": "markdown",
   "metadata": {
    "_uuid": "a48485ce53d5fe9ea1f3202076b323c6628cda06"
   },
   "source": [
    "I initially thought that the number of legendary pokemon always correlate to the number of pokemon in that gen, looks like that wasn't the case. There doesn't seem to be any noticeable trend either"
   ]
  },
  {
   "cell_type": "markdown",
   "metadata": {
    "_uuid": "25b17e05a329f6e829a69be4fbf22a1fbe6e28f7"
   },
   "source": [
    "<a id='typedist'></a>\n",
    "## Pokemon Type Distribution\n",
    "\n",
    "There are 18 types of Pokemon in total as of generation 7. Some Pokemon have only 1 type, while other have secondary type. For example, Charmander is a Fire type, while Bulbasaur is both a Grass type and a Poison type\n",
    "\n",
    "First, let's take a look of all the 18 types"
   ]
  },
  {
   "cell_type": "code",
   "execution_count": null,
   "metadata": {
    "_uuid": "9b7f084f84e1c525d0e2e2fc875a18e4db05bd30"
   },
   "outputs": [],
   "source": [
    "pokedata['TYPE 1'].unique()"
   ]
  },
  {
   "cell_type": "markdown",
   "metadata": {
    "_uuid": "36e83be04be104826ed40fc6a2a85ac17115da28"
   },
   "source": [
    "Now let's see what is the most common primary and secondary type of Pokemon."
   ]
  },
  {
   "cell_type": "code",
   "execution_count": null,
   "metadata": {
    "_uuid": "5c5d1e004622342dd12538ab84118191202ccf72"
   },
   "outputs": [],
   "source": [
    "fig = plt.figure(figsize=(15,15))\n",
    "\n",
    "fig.add_subplot(211)\n",
    "pokedata['TYPE 1'].value_counts().plot(kind='pie', \n",
    "                                       autopct='%1.1f%%',\n",
    "                                       pctdistance=0.9)\n",
    "\n",
    "fig.add_subplot(212)\n",
    "pokedata['TYPE 2'].value_counts().plot(kind='pie', \n",
    "                                       autopct='%1.1f%%',\n",
    "                                       pctdistance=0.9)\n",
    "\n",
    "plt.show()"
   ]
  },
  {
   "cell_type": "markdown",
   "metadata": {
    "_uuid": "36ff63bc7804b9a5b6ed6926d9014c0d7fae28f7"
   },
   "source": [
    "We can already see which type of Pokemon is the most and least common, but pie chart is not the ideal choice  if the number of slices is too many, so let's just use barplot."
   ]
  },
  {
   "cell_type": "code",
   "execution_count": null,
   "metadata": {
    "_uuid": "eebbd7ae6b8e82e6cd939599fd92e45e1b164a81"
   },
   "outputs": [],
   "source": [
    "sns.factorplot(\n",
    "    y='TYPE 1',\n",
    "    data=pokedata,\n",
    "    kind='count',\n",
    "    order=pokedata['TYPE 1'].value_counts().index,\n",
    "    size=4,\n",
    "    aspect=1.5,\n",
    "    color='green'\n",
    ").set_axis_labels('# of Pokemon', 'Type 1')\n",
    "\n",
    "sns.factorplot(\n",
    "    y='TYPE 2',\n",
    "    data=pokedata,\n",
    "    kind='count',\n",
    "    order=pokedata['TYPE 2'].value_counts().index,\n",
    "    size=4,\n",
    "    aspect=1.5,\n",
    "    color='purple'\n",
    ").set_axis_labels('# of Pokemon', 'Type 2');"
   ]
  },
  {
   "cell_type": "markdown",
   "metadata": {
    "_uuid": "21e3e0b1656e3aa677e8ecd89329487807da6873",
    "collapsed": true
   },
   "source": [
    "There are lots of information that can be derived from the above charts, some of the interesting things are:\n",
    "* Almost half of all Pokemon don't have secondary type.\n",
    "* While Flying is the most common secondary type, it is the least common primary type. It kind of make sense if you think about it, when you see Moltres, the first thing that comes to your mind would be Fire rather than Flying.  Or when you see Dragonite, you'll always identify him as a Dragon-type creature rather than Flying-type creature.\n",
    "* Water, Normal, and Grass as the most common primary type is to be expected, but I didn't expect Psychic type Pokemon to  be that common."
   ]
  },
  {
   "cell_type": "markdown",
   "metadata": {
    "_uuid": "00749e885ce16770ff8da92bead9a999d6c421ba"
   },
   "source": [
    "<a id='typecomb'></a>\n",
    "## Pokemon type combinations\n",
    "\n",
    "We've already seen what is the most and least common type of Pokemon, it will be also interesting to see all the type combination of the Pokemon, note that we will not include Pokemon that doesn't have secondary type"
   ]
  },
  {
   "cell_type": "code",
   "execution_count": null,
   "metadata": {
    "_uuid": "a58db47f5271a8b90d3ce7bb285bd6ff8f03452b"
   },
   "outputs": [],
   "source": [
    "plt.subplots(figsize=(10, 10))\n",
    "\n",
    "sns.heatmap(\n",
    "    pokedata[pokedata['TYPE 2']!='None'].groupby(['TYPE 1', 'TYPE 2']).size().unstack(),\n",
    "    linewidths=1,\n",
    "    annot=True,\n",
    "    cmap=\"Blues\"\n",
    ")\n",
    "\n",
    "plt.xticks(rotation=35)\n",
    "plt.show()"
   ]
  },
  {
   "cell_type": "markdown",
   "metadata": {
    "_uuid": "a9e0391424ac04a87ba5f4f3b70ab778324ddf82",
    "collapsed": true
   },
   "source": [
    "* Normal/Flying, Grass/Poison, and Bug/Flying are the top 3  combination for dual-type Pokemon"
   ]
  }
 ],
 "metadata": {
  "kernelspec": {
   "display_name": "Python 3",
   "language": "python",
   "name": "python3"
  },
  "language_info": {
   "codemirror_mode": {
    "name": "ipython",
    "version": 3
   },
   "file_extension": ".py",
   "mimetype": "text/x-python",
   "name": "python",
   "nbconvert_exporter": "python",
   "pygments_lexer": "ipython3",
   "version": "3.7.4"
  }
 },
 "nbformat": 4,
 "nbformat_minor": 1
}
