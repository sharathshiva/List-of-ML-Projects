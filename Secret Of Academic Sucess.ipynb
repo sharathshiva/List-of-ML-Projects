{
 "cells": [
  {
   "cell_type": "code",
   "execution_count": null,
   "metadata": {
    "_cell_guid": "b1076dfc-b9ad-4769-8c92-a6c4dae69d19",
    "_kg_hide-input": false,
    "_kg_hide-output": true,
    "_uuid": "8f2839f25d086af736a60e9eeb907d3b93b6e0e5"
   },
   "outputs": [],
   "source": [
    "import numpy as np \n",
    "import pandas as pd \n",
    "import os\n",
    "import matplotlib.pyplot as plt\n",
    "import seaborn as sns\n",
    "import warnings\n",
    "warnings.filterwarnings('ignore')\n",
    "import plotly.offline as py\n",
    "py.init_notebook_mode(connected=True)\n",
    "import plotly.graph_objs as go\n",
    "from plotly.offline import download_plotlyjs, init_notebook_mode, plot, iplot\n",
    "from plotly import tools\n",
    "pd.options.mode.chained_assignment = None\n",
    "pd.options.display.max_columns = 9999\n",
    "pd.options.display.float_format = '{:20,.2f}'.format\n",
    "\n"
   ]
  },
  {
   "cell_type": "code",
   "execution_count": null,
   "metadata": {
    "_uuid": "8c4d736b329728494dadfaca706f208b886a4c70"
   },
   "outputs": [],
   "source": [
    "data = pd.read_csv('../input/student-mat.csv')"
   ]
  },
  {
   "cell_type": "markdown",
   "metadata": {
    "_uuid": "733edb60e8dc733b8ed61ded900a90ef5c876004"
   },
   "source": [
    "We have an excellent set which contains information about the life of students of mathematical courses and their academic success.  As for me, I am very interested to examine in detail the information about the students and find out what influences their grades the most. \n",
    "The owner of the dataset suggests paying attention to the amount of alcohol consumed by students. This is a really interesting topic. Let's start."
   ]
  },
  {
   "cell_type": "markdown",
   "metadata": {
    "_uuid": "5a62f4eaf483a7bdd76974ac7a9f64b38f20f103"
   },
   "source": [
    "![![image.png](attachment:image.png)](http://clipart-library.com/img/1078527.gif)"
   ]
  },
  {
   "cell_type": "code",
   "execution_count": null,
   "metadata": {
    "_uuid": "510838a860c5ec1a3204feccb73b0531ef2a418a"
   },
   "outputs": [],
   "source": [
    "data.head()"
   ]
  },
  {
   "cell_type": "markdown",
   "metadata": {
    "_uuid": "f61881520336c1221ecee624609ce0cda6a83123"
   },
   "source": [
    "Lots of data. This is very encouraging! I can assume that many of the data obtained by questioning.  For example, alcohol consumption. 1 is low and 5 is high. But for someone to drink a glass of wine once a week is a lot, and for someone it is considered insignificant.  It would be better to have precise values.\n",
    "First, let's look at the gender of our students. Count the number of boys and girls."
   ]
  },
  {
   "cell_type": "code",
   "execution_count": null,
   "metadata": {
    "_uuid": "e2d9f662a74f0b9009a2808af118c70674d386ce"
   },
   "outputs": [],
   "source": [
    "sns.catplot(x=\"sex\", kind=\"count\",palette=\"magma\", data=data, height = 6)\n",
    "plt.title(\"Gender of students : F - female,M - male\")"
   ]
  },
  {
   "cell_type": "markdown",
   "metadata": {
    "_uuid": "d877762e12c0053aed42ba0ba3feb33f8d3b18c6"
   },
   "source": [
    "The number of girls is a little more. We will come back to the gender of students when we consider the final grades of students and so on.  \n",
    "Now let's pay attention to the age of students. After all, we assume, for example, that the younger the student the less likely that he uses alcohol."
   ]
  },
  {
   "cell_type": "code",
   "execution_count": null,
   "metadata": {
    "_uuid": "47969213c390f782ba92135b4eec21246d38d41c"
   },
   "outputs": [],
   "source": [
    "ages = data[\"age\"].value_counts()\n",
    "labels = (np.array(ages.index))\n",
    "sizes = (np.array((ages / ages.sum())*100))\n",
    "\n",
    "trace = go.Pie(labels=labels, values=sizes)\n",
    "layout = go.Layout(title=\"Аge of students\")\n",
    "dat = [trace]\n",
    "fig = go.Figure(data=dat, layout=layout)\n",
    "py.iplot(fig, filename=\"age\")"
   ]
  },
  {
   "cell_type": "markdown",
   "metadata": {
    "_uuid": "a8491824df36d2d77f99df78cfd9102b6b8bead2"
   },
   "source": [
    "And so, basically we are dealing with students 15-18 years.  The most beautiful, but very often is a difficult age. \n",
    "Teenagers want to relax more with friends and learn less math :D\n",
    "![![image.png](attachment:image.png)](https://media.istockphoto.com/photos/happy-birthday-dog-singing-picture-id474799022?k=6&m=474799022&s=612x612&w=0&h=pgkb_N3Z9A27DGTT9UGPMevt3wr7XaWizEYYblPeRXA=)"
   ]
  },
  {
   "cell_type": "markdown",
   "metadata": {
    "_uuid": "17e7a485703db7dbf00afdd58c5f81cfe6b086c2"
   },
   "source": [
    "Then let's see how many hours a week students spend on their studies."
   ]
  },
  {
   "cell_type": "code",
   "execution_count": null,
   "metadata": {
    "_uuid": "67790b0a5106ea061cf3f80196a2eafffa181908"
   },
   "outputs": [],
   "source": [
    "data['st_time'] = np.nan\n",
    "df = [data]\n",
    "\n",
    "for col in df:\n",
    "    col.loc[col['studytime'] == 1 , 'st_time'] = '< 2 hours'\n",
    "    col.loc[col['studytime'] == 2 , 'st_time'] = '2 to 5 hours'\n",
    "    col.loc[col['studytime'] == 3, 'st_time'] = '5 to 10 hours'\n",
    "    col.loc[col['studytime'] == 4, 'st_time'] = '> 10 hours'  \n",
    " \n",
    "labels = data[\"st_time\"].unique().tolist()\n",
    "amount = data[\"st_time\"].value_counts().tolist()\n",
    "\n",
    "colors = [\"pink\", \"cyan\", \"green\", \"yellow\"]\n",
    "\n",
    "trace = go.Pie(labels=labels, values=amount,\n",
    "               hoverinfo='label+percent', textinfo='value', \n",
    "               textfont=dict(size=20),\n",
    "               marker=dict(colors=colors, \n",
    "                           line=dict(color='#000000', width=2)))\n",
    "dt = [trace]\n",
    "layout = go.Layout(title=\"Study time\")\n",
    "\n",
    "fig = go.Figure(data=dt, layout=layout)\n",
    "iplot(fig, filename='pie')"
   ]
  },
  {
   "cell_type": "markdown",
   "metadata": {
    "_uuid": "9f21bd115c8f6266b75df78e76b399b4abbfc90a"
   },
   "source": [
    "Most students spend 2 to 5  and 5 to 10 hours a week studying.   It would be better if we had the exact number of hours for each student. Personally, I think a student who spends 5 hours a week studying is a diligent student. 2 hours is not always enough.\n",
    "But we can pay attention to the impact of the number of hours spent on study on the final grade of the student."
   ]
  },
  {
   "cell_type": "code",
   "execution_count": null,
   "metadata": {
    "_uuid": "efaff149c3aa3e393d4f174d27fe6361cd11066c"
   },
   "outputs": [],
   "source": [
    "plt.figure(figsize=(18,7))\n",
    "plt.title(\"Box plot for final grades,depending on the study time\")\n",
    "sns.boxplot(y=\"st_time\", x=\"G3\", data = data , orient=\"h\", palette = 'rainbow')"
   ]
  },
  {
   "cell_type": "markdown",
   "metadata": {
    "_uuid": "1a5749d8383628b100b4e4e2491d001c8a227a12"
   },
   "source": [
    "The lowest average result is shown by students who spend less than two hours a week studying.   Of course! I am a student and I can say that this time is not enough. Especially when it comes to mathematics.  Few students spend more than 10 hours a week studying. But they show a very good result. \n",
    "Sometimes we're all lazy. But we must try to find time to study and good grades will become stable.\n",
    "We have information about the student's place of residence: city or village.  Let's see. This may be useful to us in the future. Perhaps students living in the city are much more likely to attend parties with alcohol or are busy with more interesting things than studying. Or students living in villages may be too lazy to get to school and miss classes. Also display the time that students spend on the way to school ( 1 - very close, 4 - very far)."
   ]
  },
  {
   "cell_type": "code",
   "execution_count": null,
   "metadata": {
    "_uuid": "b005f391f3de9e093fabf4e86df89a458c993259"
   },
   "outputs": [],
   "source": [
    "sns.catplot(x=\"address\", kind=\"count\",hue = \"traveltime\",palette=\"brg\", data=data, height = 6)\n",
    "plt.title(\"Students address: U - urban, R - rural\")"
   ]
  },
  {
   "cell_type": "markdown",
   "metadata": {
    "_uuid": "f30d6b11a56d0ff4c9d0ff973da056f313a57863"
   },
   "source": [
    "Most of the students live in the city. Few students take long to get to school.  But still, let's see if this affects the number of absences."
   ]
  },
  {
   "cell_type": "code",
   "execution_count": null,
   "metadata": {
    "_uuid": "f33f82d900b85fadad27e997384cd764324aae1f"
   },
   "outputs": [],
   "source": [
    "f= plt.figure(figsize=(18,7))\n",
    "\n",
    "ax=f.add_subplot(121)\n",
    "sns.distplot(data[(data.address == 'U')][\"absences\"],color='orange',ax=ax)\n",
    "ax.set_title('Distribution of absences for students who live is city')\n",
    "\n",
    "ax=f.add_subplot(122)\n",
    "sns.distplot(data[(data.address == 'R')]['absences'],color='gray',ax=ax)\n",
    "ax.set_title('Distribution of absences for students who live in village')"
   ]
  },
  {
   "cell_type": "markdown",
   "metadata": {
    "_uuid": "c05bb2ead930df34921e84b34d90e1d8b46d8d01"
   },
   "source": [
    "Yet among the students living in the village there are people with a lot of absences. But while we can not say for sure that this is due to the fact that the student does not live in the city.  But of course this may be due to traffic jams on the road or not a very good transport schedule.  "
   ]
  },
  {
   "cell_type": "code",
   "execution_count": null,
   "metadata": {
    "_uuid": "cdf09d86c55dfcc498fe34e64625a216c8fd8b33"
   },
   "outputs": [],
   "source": [
    "sns.lmplot(x=\"absences\", y=\"G3\",hue = 'address',data=data, palette = 'inferno_r', size = 7)\n"
   ]
  },
  {
   "cell_type": "markdown",
   "metadata": {
    "_uuid": "4de72cc8df31669667dee442d06412022da687ee"
   },
   "source": [
    "But let's study students absences in more detail.  We have information about the romantic relationships of students: there is a relationship or not.  Given the age of our students, we can assume that love has an important place in their lives. Let's see if the presence of love and relationships affects the number of absences.\n",
    "![![image.png](attachment:image.png)](http://123emoji.com/wp-content/uploads/2017/08/sticker-4-45.png)"
   ]
  },
  {
   "cell_type": "code",
   "execution_count": null,
   "metadata": {
    "_uuid": "ded1d83c17a80a75daddab66b1c75d542ddd46e5"
   },
   "outputs": [],
   "source": [
    "f= plt.figure(figsize=(17,5))\n",
    "\n",
    "ax=f.add_subplot(121)\n",
    "sns.distplot(data[(data.romantic == 'no')][\"absences\"],color='coral',ax=ax)\n",
    "ax.set_title('Distribution of absences for classes by single people')\n",
    "\n",
    "ax=f.add_subplot(122)\n",
    "sns.distplot(data[(data.romantic == 'yes')]['absences'],color='purple',ax=ax)\n",
    "ax.set_title('Distribution of absences for classes by people in love')"
   ]
  },
  {
   "cell_type": "markdown",
   "metadata": {
    "_uuid": "e17669064b8b88c2cf25d01981144c355be62b41"
   },
   "source": [
    "Oh. \"Lovers do not notice the clock.\" Single people miss fewer classes. But how can we be mad at teenagers for being in love?\n",
    "Let's see if this affects the final grade."
   ]
  },
  {
   "cell_type": "code",
   "execution_count": null,
   "metadata": {
    "_uuid": "ba0e2216504881559df4be8c6b97b380cb6a93ba"
   },
   "outputs": [],
   "source": [
    "f= plt.figure(figsize=(17,5))\n",
    "\n",
    "ax=f.add_subplot(121)\n",
    "sns.distplot(data[(data.romantic == 'no')][\"G3\"],color='cyan',ax=ax)\n",
    "ax.set_title('Distribution of grades in  single people')\n",
    "\n",
    "ax=f.add_subplot(122)\n",
    "sns.distplot(data[(data.romantic == 'yes')]['G3'],color='blue',ax=ax)\n",
    "ax.set_title('Distribution of grades in people in love')"
   ]
  },
  {
   "cell_type": "markdown",
   "metadata": {
    "_uuid": "aa02a973841d302adf6024f8e68f34bd1fa9e84e"
   },
   "source": [
    "The final grades of single students are slightly higher than those who are in a romantic relationship. Of course this is due to the fact that teenagers in love want to spend more time with  girlfriend or boyfriend than with a textbook in mathematics.\n",
    "Let's count the number of single students and those who are in a relationship."
   ]
  },
  {
   "cell_type": "code",
   "execution_count": null,
   "metadata": {
    "_uuid": "f6d91084c6a93e16f8b93253441ce72475d883f7"
   },
   "outputs": [],
   "source": [
    "sns.catplot(x=\"romantic\", kind=\"count\",palette=\"pink\", data=data, height = 7)\n",
    "plt.title(\"How many students are in a romantic relationship?\")"
   ]
  },
  {
   "cell_type": "markdown",
   "metadata": {
    "_uuid": "1d09808ed5c8c28b6fa36371470b448f57fdc513"
   },
   "source": [
    "Now consider one very important thing. Students health! In our sample of very young teenagers and I hope that they all have excellent health."
   ]
  },
  {
   "cell_type": "code",
   "execution_count": null,
   "metadata": {
    "_uuid": "5408e49109bb62cdda71ec16fd7b19f03071d255"
   },
   "outputs": [],
   "source": [
    "labels = data[\"health\"].unique().tolist()\n",
    "amount = data[\"health\"].value_counts().tolist()\n",
    "\n",
    "colors = [\"coral\",\"lightgreen\",\"pink\",\"cyan\",\"white\"]\n",
    "\n",
    "trace = go.Pie(labels=labels, values=amount,\n",
    "               hoverinfo='label+percent', textinfo='value', \n",
    "               textfont=dict(size=20),\n",
    "               marker=dict(colors=colors, \n",
    "                           line=dict(color='#000000', width=2)))\n",
    "\n",
    "dt = [trace]\n",
    "layout = go.Layout(title=\"Current health status (numeric: from 1 - very bad to 5 - very good)\")\n",
    "\n",
    "fig = go.Figure(data=dt, layout=layout)\n",
    "iplot(fig, filename = 'h_chart')"
   ]
  },
  {
   "cell_type": "markdown",
   "metadata": {
    "_uuid": "cf5932a59e41503e888422c7cc175af455dc2eb1"
   },
   "source": [
    "Oh. To be honest, I'm very upset.I would like to see a completely green circle.  Be healthy friends! \n",
    "Let's see if the health of the student affects  final grades and the number of passes."
   ]
  },
  {
   "cell_type": "code",
   "execution_count": null,
   "metadata": {
    "_uuid": "2395c43fe6155cccb6ef9bbee9f4c8cc6465f3ea"
   },
   "outputs": [],
   "source": [
    "plt.figure(figsize=(16,5))\n",
    "plt.title(\"Box plot for final grades,depending on current health\")\n",
    "sns.boxplot(y=\"health\", x=\"G3\", data = data , orient=\"h\", palette = 'winter')"
   ]
  },
  {
   "cell_type": "markdown",
   "metadata": {
    "_uuid": "fa6cb53096feaada8cde43290ad734db00c87e6f"
   },
   "source": [
    "Interesting situation. In our enrollment, 66 students have very poor health. But nevertheless their final estimates are quite high. \n",
    "I hope that they think not only about their success in school but also about health! \n",
    "Also, students with very good health have high final grades.  Now look at the absenteeism."
   ]
  },
  {
   "cell_type": "code",
   "execution_count": null,
   "metadata": {
    "_uuid": "6e645244fedff20610db8521091e3af4d49ca616"
   },
   "outputs": [],
   "source": [
    "plt.figure(figsize=(16,5))\n",
    "plt.title(\"Box plot for absences,depending on current health\")\n",
    "sns.boxplot(y=\"health\", x=\"absences\", data = data , orient=\"h\", palette = 'summer')"
   ]
  },
  {
   "cell_type": "markdown",
   "metadata": {
    "_uuid": "587382362c5860f0ba780db4412ffb6f7211cdb0"
   },
   "source": [
    "There is no tangible connection between the level of health of the student and the number of absences to classes.  \n",
    "But here you can see that students with high final grades miss less classes :)\n",
    "Since we are talking about health will look at alcohol consumption by students.\n",
    "![![image.png](attachment:image.png)](https://www.tres-click.com/wp-content/uploads/2018/04/wein-trinken-sex.gif)"
   ]
  },
  {
   "cell_type": "markdown",
   "metadata": {
    "_uuid": "2d86027c586798b8ad9af47e4183e19aa0a2bec0"
   },
   "source": [
    "We have data on the amount of alcohol consumed by students on weekdays(\"Dalc\") and weekends(\"Walc\"). The main thing we are interested in is whether the amount of alcohol consumed affects success in school. Let's see! \n",
    "Let's start with alcohol consumption on weekdays."
   ]
  },
  {
   "cell_type": "code",
   "execution_count": null,
   "metadata": {
    "_uuid": "2d9016b7d36e6a9ef83fd4f51ddc55528d40887d"
   },
   "outputs": [],
   "source": [
    "labels = data[\"Dalc\"].unique().tolist()\n",
    "amount = data[\"Dalc\"].value_counts().tolist()\n",
    "\n",
    "colors = [\"pink\",\"lightgreen\",\"white\",\"cyan\",\"gray\"]\n",
    "\n",
    "trace = go.Pie(labels=labels, values=amount,\n",
    "               hoverinfo='label+percent', textinfo='value', \n",
    "               textfont=dict(size=20),\n",
    "               marker=dict(colors=colors, \n",
    "                           line=dict(color='#000000', width=2)))\n",
    "\n",
    "dt = [trace]\n",
    "layout = go.Layout(title=\"Workday alcohol consumption (numeric: from 1 - very low to 5 - very high)\")\n",
    "\n",
    "fig = go.Figure(data=dt, layout=layout)\n",
    "iplot(fig, filename = 'rt')"
   ]
  },
  {
   "cell_type": "markdown",
   "metadata": {
    "_uuid": "314725769918a261bf514a6b1bd2f0c57e27f950"
   },
   "source": [
    "Um. Most students prefer to spend a week sober or almost without alcohol. But still there is someone who likes to drink on a weekday. Let's see if that affects student grades and absences."
   ]
  },
  {
   "cell_type": "code",
   "execution_count": null,
   "metadata": {
    "_uuid": "102f06a92ade0bb64e940e66e1d8962426b2b17f"
   },
   "outputs": [],
   "source": [
    "f= plt.figure(figsize=(17,5))\n",
    "\n",
    "ax=f.add_subplot(121)\n",
    "sns.distplot(data[(data.Dalc == 5)][\"absences\"],color='green',ax=ax)\n",
    "ax.set_title('Distribution of absences for people who consume a lot of alcohol on weekdays')\n",
    "\n",
    "ax=f.add_subplot(122)\n",
    "sns.distplot(data[(data.Dalc == 1)]['absences'],color='blue',ax=ax)\n",
    "ax.set_title('Distribution of absences for people who consume little alcohol on weekdays')"
   ]
  },
  {
   "cell_type": "code",
   "execution_count": null,
   "metadata": {
    "_uuid": "f30e02d90da9ddb93bcc19343c858aa99bd140f3"
   },
   "outputs": [],
   "source": [
    "f= plt.figure(figsize=(17,5))\n",
    "\n",
    "ax=f.add_subplot(121)\n",
    "sns.distplot(data[(data.Dalc == 5)][\"G3\"],color='red',ax=ax)\n",
    "ax.set_title('Distribution of grades for people who consume a lot of alcohol on weekdays')\n",
    "\n",
    "ax=f.add_subplot(122)\n",
    "sns.distplot(data[(data.Dalc == 1)]['G3'],color='gray',ax=ax)\n",
    "ax.set_title('Distribution of grades for people who consume little alcohol on weekdays')"
   ]
  },
  {
   "cell_type": "markdown",
   "metadata": {
    "_uuid": "47324d8fe1dbe4dd2e6bd11af11a637a2796452d"
   },
   "source": [
    "Drinking alcohol on weekdays is a bad idea! :D\n",
    "Of course, the number of those who love to drink on weekdays is much less than the number of those who prefer to spend weekdays sober.  But we can see that the final grades of these students are significantly lower.  Let's look at the situation with the consumption of alcohol on the weekend.\n",
    "\n"
   ]
  },
  {
   "cell_type": "code",
   "execution_count": null,
   "metadata": {
    "_uuid": "a1bc713c0d69f2142f84c52c5c7b5cfc42bd311f"
   },
   "outputs": [],
   "source": [
    "labels = data[\"Walc\"].unique().tolist()\n",
    "amount = data[\"Walc\"].value_counts().tolist()\n",
    "\n",
    "colors = [\"yellow\",\"cyan\",\"green\",\"orange\",\"gray\"]\n",
    "\n",
    "trace = go.Pie(labels=labels, values=amount,\n",
    "               hoverinfo='label+percent', textinfo='value', \n",
    "               textfont=dict(size=20),\n",
    "               marker=dict(colors=colors, \n",
    "                           line=dict(color='#000000', width=2)))\n",
    "\n",
    "dt = [trace]\n",
    "layout = go.Layout(title=\"Weekend alcohol consumption (numeric: from 1 - very low to 5 - very high)\")\n",
    "\n",
    "fig = go.Figure(data=dt, layout=layout)\n",
    "iplot(fig, filename = 't')"
   ]
  },
  {
   "cell_type": "markdown",
   "metadata": {
    "_uuid": "1790572f9a2382790049919e09fd4d356adaf725"
   },
   "source": [
    "Of course the situation has changed. On weekends, more students like to relax and drink.  I wonder what the situation will be with the final grades."
   ]
  },
  {
   "cell_type": "code",
   "execution_count": null,
   "metadata": {
    "_uuid": "b940b94d91119e98d6b3b43408d8980932b74b23"
   },
   "outputs": [],
   "source": [
    "f= plt.figure(figsize=(17,5))\n",
    "\n",
    "ax=f.add_subplot(121)\n",
    "sns.distplot(data[(data.Walc == 5)][\"G3\"],color='lightgreen',ax=ax)\n",
    "ax.set_title('Distribution of grades for people who consume a lot of alcohol on weekend')\n",
    "\n",
    "ax=f.add_subplot(122)\n",
    "sns.distplot(data[(data.Walc == 1)]['G3'],color='black',ax=ax)\n",
    "ax.set_title('Distribution of grades for people who consume little alcohol on weekend')"
   ]
  },
  {
   "cell_type": "markdown",
   "metadata": {
    "_uuid": "52d68b4d433e6455db3940a846b7fe4fa17dbd1a"
   },
   "source": [
    "Calm, friends. Our wine is always happy to see us on the weekend. And it seems it will not affect the grades at school(but better not abuse).\n",
    "![![image.png](attachment:image.png)](https://media.giphy.com/media/YJ5OlVLZ2QNl6/giphy.gif)"
   ]
  },
  {
   "cell_type": "markdown",
   "metadata": {
    "_uuid": "b9fa04797cda9027486b4b7e430688dfab67485f"
   },
   "source": [
    "On this happy note, I propose to consider one more important thing - additional paid courses that the student attends. It is good when a student wants to study extra, and parents have the opportunity to pay for courses. This can tell us not only about the commitment of the student, but also about the social status of the family. Personally, I did not understand as a child how important it is to engage not only in school, but also on their own. Let's see."
   ]
  },
  {
   "cell_type": "code",
   "execution_count": null,
   "metadata": {
    "_uuid": "2cf93b8e8df853361c00f06c5d511ca56071249d"
   },
   "outputs": [],
   "source": [
    "g = sns.jointplot(x=\"age\", y=\"G3\", data = data[(data.paid == 'yes')],kind=\"kde\", color=\"cyan\")\n",
    "g.plot_joint(plt.scatter, c=\"black\", s=30, linewidth=1, marker=\"+\")\n",
    "g.ax_joint.collections[0].set_alpha(0)\n",
    "g.set_axis_labels(\"$X$\", \"$Y$\")\n",
    "ax.set_title('Distribution of final grades and age for students who have additional paid classes')"
   ]
  },
  {
   "cell_type": "code",
   "execution_count": null,
   "metadata": {
    "_uuid": "0bac1c4691335abb96218945ab58868a39d2904a"
   },
   "outputs": [],
   "source": [
    "g = sns.jointplot(x=\"age\", y=\"G3\", data = data[(data.paid == 'no')],kind=\"kde\", color=\"pink\")\n",
    "g.plot_joint(plt.scatter, c=\"black\", s=30, linewidth=1, marker=\"*\")\n",
    "g.ax_joint.collections[0].set_alpha(0)\n",
    "g.set_axis_labels(\"$X$\", \"$Y$\")\n",
    "ax.set_title('Distribution of final grades and age for students who do not have additional paid classes')"
   ]
  },
  {
   "cell_type": "code",
   "execution_count": null,
   "metadata": {
    "_uuid": "c3bd21c77e5cc34fec8b8a1b0d11b192fa9237ed"
   },
   "outputs": [],
   "source": [
    "f= plt.figure(figsize=(18,6))\n",
    "\n",
    "ax=f.add_subplot(121)\n",
    "sns.distplot(data[(data.paid == 'yes')][\"G3\"],color='lightgreen',ax=ax)\n",
    "ax.set_title('Distribution of grades for students who have additional paid classes')\n",
    "\n",
    "ax=f.add_subplot(122)\n",
    "sns.distplot(data[(data.paid == 'no')]['G3'],color='coral',ax=ax)\n",
    "ax.set_title('Distribution of grades for students who do not have additional paid classes')"
   ]
  },
  {
   "cell_type": "markdown",
   "metadata": {
    "_uuid": "18f3a7fa5d2ee3962708303567d3871b1f9be0af"
   },
   "source": [
    "We also have information about the student's desire to get higher education in the future. This is useful information! Does the desire to get higher education influence the final grades?"
   ]
  },
  {
   "cell_type": "code",
   "execution_count": null,
   "metadata": {
    "_uuid": "66965203c63d4ed3c4e3908b4666ca9df92ad68c"
   },
   "outputs": [],
   "source": [
    "sns.catplot(x=\"higher\", kind=\"count\",palette=\"rocket\", data=data, height = 6)\n",
    "plt.title(\"How many students want to ger higher education?\")"
   ]
  },
  {
   "cell_type": "markdown",
   "metadata": {
    "_uuid": "f3f432eed255fb86840f6709773503d82d22b540"
   },
   "source": [
    "I am happy to see that almost all students want to get higher education. And I hope that the field of mathematics :D"
   ]
  },
  {
   "cell_type": "code",
   "execution_count": null,
   "metadata": {
    "_uuid": "de88d943e8fc1ec368db71a994d481ce66880cc3"
   },
   "outputs": [],
   "source": [
    "plt.figure(figsize=(17,5))\n",
    "plt.title(\"Box plot for final grades,depending on the desire to have higher education\")\n",
    "sns.boxplot(y=\"higher\", x=\"G3\", data = data , orient=\"h\", palette = 'tab10')\n",
    "\n",
    "f= plt.figure(figsize=(17,5))\n",
    "ax=f.add_subplot(121)\n",
    "sns.distplot(data[(data.higher == 'yes')][\"G3\"],color='orange',ax=ax)\n",
    "ax.set_title('Distribution of grades for students who wants to get higher education')\n",
    "\n",
    "ax=f.add_subplot(122)\n",
    "sns.distplot(data[(data.higher == 'no')]['G3'],color='red',ax=ax)\n",
    "ax.set_title('Distribution of grades for students who does not want to get higher education')"
   ]
  },
  {
   "cell_type": "markdown",
   "metadata": {
    "_uuid": "b73900c9b2f77cfcd4ca5865a1ac6681f077b107"
   },
   "source": [
    "The desire to get higher education stimulates students to get higher grades.\n",
    "And of course I did not forget to pay attention to the presence of the Internet at the student's home. Nowadays, the Internet is very important. Quick access to information or the ability to find a solution to the problem without a long search in the textbooks: D"
   ]
  },
  {
   "cell_type": "code",
   "execution_count": null,
   "metadata": {
    "_uuid": "6f485fbf11106d608bac5e091ff3cd2bcd1f25ad"
   },
   "outputs": [],
   "source": [
    "sns.catplot(x=\"internet\", kind=\"count\",palette=\"autumn\", data=data, height = 6)\n",
    "plt.title(\"How many students have not Internet (yes, i am shocked too)?\")"
   ]
  },
  {
   "cell_type": "markdown",
   "metadata": {
    "_uuid": "11795c678054692bfa8cc2ec6aeeb5dfd934689d"
   },
   "source": [
    "First, let's see whether the availability of the Internet affects the number of hours students spend on their studies."
   ]
  },
  {
   "cell_type": "code",
   "execution_count": null,
   "metadata": {
    "_uuid": "6907c8159b8890f4b25c301d2551be8929fe6e49"
   },
   "outputs": [],
   "source": [
    "time1 =data[(data.internet == 'no')].st_time.value_counts()\n",
    "labels = (np.array(time1.index))\n",
    "sizes = (np.array((time1 / time1.sum())*100))\n",
    "\n",
    "trace = go.Pie(labels=labels, values=sizes)\n",
    "layout = go.Layout(title=\"How many hours do students without access to the Internet spend on studies?\")\n",
    "dat = [trace]\n",
    "fig = go.Figure(data=dat, layout=layout)\n",
    "py.iplot(fig, filename=\"time1\")"
   ]
  },
  {
   "cell_type": "code",
   "execution_count": null,
   "metadata": {
    "_uuid": "a12bd5a7b24afb4bdd37a0fe43ecc6d37182ac27"
   },
   "outputs": [],
   "source": [
    "time2 =data[(data.internet == 'yes')].st_time.value_counts()\n",
    "labels = (np.array(time2.index))\n",
    "sizes = (np.array((time2 / time2.sum())*100))\n",
    "\n",
    "trace = go.Pie(labels=labels, values=sizes)\n",
    "layout = go.Layout(title=\"How many hours do students with access to the Internet spend on studies?\")\n",
    "dat = [trace]\n",
    "fig = go.Figure(data=dat, layout=layout)\n",
    "py.iplot(fig, filename=\"time2\")"
   ]
  },
  {
   "cell_type": "markdown",
   "metadata": {
    "_uuid": "e79ce9d64f0cb4bbd5d55e9bdf46145b1121ed7c"
   },
   "source": [
    "I'm shocked. They spend less time! Are these students geniuses or lazy?"
   ]
  },
  {
   "cell_type": "code",
   "execution_count": null,
   "metadata": {
    "_uuid": "9b04cdf3ce4c48a29a146dbff3556017f2e2d5eb"
   },
   "outputs": [],
   "source": [
    "plt.figure(figsize=(17,5))\n",
    "plt.title(\"Box plot for final grades,depending on the access to the Internet\")\n",
    "sns.boxplot(y=\"internet\", x=\"G3\", data = data , orient=\"h\", palette = 'pink')\n"
   ]
  },
  {
   "cell_type": "markdown",
   "metadata": {
    "_uuid": "b56c9af27c5eb8b51cab099e4628ac50241d6104"
   },
   "source": [
    "**Brrrr**"
   ]
  },
  {
   "cell_type": "markdown",
   "metadata": {
    "_uuid": "a9560f8b90375ad7ed6d98c150de132ec0fd24bf"
   },
   "source": [
    "And the last thing we'll look at is the student's family. The family plays a very important role in the development of the child. The data set gives us a lot of information about the student's family, profession and education of parents and so on. We can't just walk away!\n",
    "Let's start with the fact that we look at the number of people in the families of the student and the status of residence of parents: father and mother live together or not."
   ]
  },
  {
   "cell_type": "code",
   "execution_count": null,
   "metadata": {
    "_uuid": "a16d7b40a8f8b7786ee798f9fac48dbbc7725a6b"
   },
   "outputs": [],
   "source": [
    "sns.catplot(x=\"famsize\", kind=\"count\",hue = \"Pstatus\",palette=\"spring\", data=data, height = 7)\n",
    "plt.title(\"Number of people in the family: GT3 - more than 3, LE3 - less than 3\")"
   ]
  },
  {
   "cell_type": "markdown",
   "metadata": {
    "_uuid": "89560b4182a4400f3c5d260d6e314d3c46022fb0"
   },
   "source": [
    "I am glad that most students live with their mother and father. We have a lot of information about parents of students. That's great! Let's see what the students  mothers do. How many of them are doctors, housewives, and so on."
   ]
  },
  {
   "cell_type": "code",
   "execution_count": null,
   "metadata": {
    "_uuid": "35f17c1a2fbbdb2b720e4a8deda9387a9d2751c1"
   },
   "outputs": [],
   "source": [
    "labels = data[\"Mjob\"].unique().tolist()\n",
    "amount = data[\"Mjob\"].value_counts().tolist()\n",
    "\n",
    "colors = [\"orange\", \"green\", \"yellow\", \"white\",'cyan']\n",
    "\n",
    "trace = go.Pie(labels=labels, values=amount,\n",
    "               hoverinfo='label+percent', textinfo='value', \n",
    "               textfont=dict(size=20),\n",
    "               marker=dict(colors=colors, \n",
    "                           line=dict(color='#000000', width=2)))\n",
    "\n",
    "dt = [trace]\n",
    "layout = go.Layout(title=\"Mother's job\")\n",
    "\n",
    "fig = go.Figure(data=dt, layout=layout)\n",
    "iplot(fig, filename = 'pi_chart')"
   ]
  },
  {
   "cell_type": "markdown",
   "metadata": {
    "_uuid": "a77f105f672b06f3844032bf74d8a27f5939c9c2"
   },
   "source": [
    "Most mothers are housewives. And it was very surprising how many mothers work in medicine.  Let's see about the fathers."
   ]
  },
  {
   "cell_type": "code",
   "execution_count": null,
   "metadata": {
    "_uuid": "19e005a8598254cbd2e33d210e0e3f5b53e92ff8"
   },
   "outputs": [],
   "source": [
    "labels = data[\"Fjob\"].unique().tolist()\n",
    "amount = data[\"Fjob\"].value_counts().tolist()\n",
    "\n",
    "colors = [\"coral\",\"lightgreen\",\"gray\",\"cyan\",\"white\"]\n",
    "\n",
    "trace = go.Pie(labels=labels, values=amount,\n",
    "               hoverinfo='label+percent', textinfo='value', \n",
    "               textfont=dict(size=20),\n",
    "               marker=dict(colors=colors, \n",
    "                           line=dict(color='#000000', width=2)))\n",
    "\n",
    "dt = [trace]\n",
    "layout = go.Layout(title=\"Father's job\")\n",
    "\n",
    "fig = go.Figure(data=dt, layout=layout)\n",
    "iplot(fig, filename = 'pg_chart')"
   ]
  },
  {
   "cell_type": "markdown",
   "metadata": {
    "_uuid": "fcd925a869486bb459db441e5578eeab21eafc27"
   },
   "source": [
    "How many teachers!"
   ]
  },
  {
   "cell_type": "markdown",
   "metadata": {
    "_uuid": "55554da2d6e89fa23889bed117b936f5400f2dcb"
   },
   "source": [
    "![![image.png](attachment:image.png)](https://img.buzzfeed.com/buzzfeed-static/static/2015-07/27/11/enhanced/webdr02/anigif_enhanced-6721-1438012523-2.gif)"
   ]
  },
  {
   "cell_type": "code",
   "execution_count": null,
   "metadata": {
    "_uuid": "83adcaf0d8047760dab8be99fcfb20353482cd94"
   },
   "outputs": [],
   "source": [
    "plt.figure(figsize=(16,5))\n",
    "plt.title(\"Box plot for final grades,depending on mothers profession\")\n",
    "sns.boxplot(y=\"Mjob\", x=\"G3\", data = data , orient=\"h\", palette = 'winter')\n",
    "\n",
    "plt.figure(figsize=(16,5))\n",
    "plt.title(\"Box plot for final grades,depending on fathers profession\")\n",
    "sns.boxplot(y=\"Fjob\", x=\"G3\", data = data , orient=\"h\", palette = 'summer')"
   ]
  },
  {
   "cell_type": "markdown",
   "metadata": {
    "_uuid": "b2b032fa80b25eae0624a0f317a48774a32b721c"
   },
   "source": [
    "It seems that mothers working in medicine instill in their children a great love for mathematics. (Someone doesn't like math? Nonsense...)\n",
    "Last but not least, the quality of family relationships. It is a pity that you don't know what put the rating - children or parents.\n"
   ]
  },
  {
   "cell_type": "code",
   "execution_count": null,
   "metadata": {
    "_uuid": "74b4fd0cf1ad907e4933bbb19b99bf95ad89159c"
   },
   "outputs": [],
   "source": [
    "labels = data[\"famrel\"].unique().tolist()\n",
    "amount = data[\"famrel\"].value_counts().tolist()\n",
    "\n",
    "colors = [\"pink\",\"cyan\",\"coral\",\"orange\",\"white\"]\n",
    "\n",
    "trace = go.Pie(labels=labels, values=amount,\n",
    "               hoverinfo='label+percent', textinfo='value', \n",
    "               textfont=dict(size=20),\n",
    "               marker=dict(colors=colors, \n",
    "                           line=dict(color='#000000', width=2)))\n",
    "\n",
    "dt = [trace]\n",
    "layout = go.Layout(title=\"Quality of family relationships(numeric: from 1 - very bad to 5 - excellent)\")\n",
    "\n",
    "fig = go.Figure(data=dt, layout=layout)\n",
    "iplot(fig, filename = 'pf_chart')"
   ]
  },
  {
   "cell_type": "markdown",
   "metadata": {
    "_uuid": "70882b2f985602b924c0b6eada228085be553cd1"
   },
   "source": [
    "Of course here I wanted to see a completely cyan circle! Just for curious I want to separately look at the situation in families where parents live together."
   ]
  },
  {
   "cell_type": "code",
   "execution_count": null,
   "metadata": {
    "_uuid": "22f6e3a1f292a4bef8c14877a25b44ce51d9b78f"
   },
   "outputs": [],
   "source": [
    "labels = data[(data.Pstatus == 'T')].famrel.unique().tolist()\n",
    "amount = data[(data.Pstatus == 'T')].famrel.value_counts().tolist()\n",
    "\n",
    "colors = [\"yellow\",\"cyan\",\"pink\",\"orange\",\"white\"]\n",
    "\n",
    "trace = go.Pie(labels=labels, values=amount,\n",
    "               hoverinfo='label+percent', textinfo='value', \n",
    "               textfont=dict(size=20),\n",
    "               marker=dict(colors=colors, \n",
    "                           line=dict(color='#000000', width=2)))\n",
    "\n",
    "dt = [trace]\n",
    "layout = go.Layout(title=\"Quality of relationships in families where parents live together (numeric: from 1 - very bad to 5 - excellent)\")\n",
    "\n",
    "fig = go.Figure(data=dt, layout=layout)\n",
    "iplot(fig, filename = 'pf1_chart')"
   ]
  },
  {
   "cell_type": "markdown",
   "metadata": {
    "_uuid": "e952ca9a8317adc0c8a0408b958ffb8e650f4395"
   },
   "source": [
    "![![image.png](attachment:image.png)](https://media.giphy.com/media/36r0Ay8SNKs6Y/giphy.gif)"
   ]
  },
  {
   "cell_type": "markdown",
   "metadata": {
    "_uuid": "5043f5d965584c53f1b0b0b1293f32d8ff77f9a7"
   },
   "source": [
    "Yeahh. A happy family is a complete family! Love is happiness and so on :)"
   ]
  },
  {
   "cell_type": "markdown",
   "metadata": {
    "_uuid": "405e8fd2a44c1a9128fbc2eeb9559eec734cba22"
   },
   "source": [
    "Let's code categorical features and look at the correlation between the features.\n",
    "We will use \"Label Encoder \"for binary features."
   ]
  },
  {
   "cell_type": "code",
   "execution_count": null,
   "metadata": {
    "_uuid": "726b5516d744ff841980d4a2e580408e13d3e226"
   },
   "outputs": [],
   "source": [
    "from sklearn.preprocessing import LabelEncoder"
   ]
  },
  {
   "cell_type": "code",
   "execution_count": null,
   "metadata": {
    "_uuid": "7b33c14b064356f8a7eb7cc6293a8618d43db5e2"
   },
   "outputs": [],
   "source": [
    "le = LabelEncoder()\n",
    "#sex\n",
    "le.fit(data.sex.drop_duplicates()) \n",
    "data.sex = le.transform(data.sex)\n",
    "#address\n",
    "le.fit(data.address.drop_duplicates()) \n",
    "data.address = le.transform(data.address)\n",
    "#famsize\n",
    "le.fit(data.famsize.drop_duplicates()) \n",
    "data.famsize = le.transform(data.famsize)\n",
    "#Pstatus\n",
    "le.fit(data.Pstatus.drop_duplicates()) \n",
    "data.Pstatus = le.transform(data.Pstatus)\n",
    "#schoolsup\n",
    "le.fit(data.schoolsup.drop_duplicates()) \n",
    "data.schoolsup = le.transform(data.schoolsup)\n",
    "#famsup\n",
    "le.fit(data.famsup.drop_duplicates()) \n",
    "data.famsup = le.transform(data.famsup)\n",
    "#paid\n",
    "le.fit(data.paid.drop_duplicates()) \n",
    "data.paid = le.transform(data.paid)\n",
    "#activities\n",
    "le.fit(data.activities.drop_duplicates()) \n",
    "data.activities = le.transform(data.activities)\n",
    "#nursery\n",
    "le.fit(data.nursery.drop_duplicates()) \n",
    "data.nursery = le.transform(data.nursery)\n",
    "#higher\n",
    "le.fit(data.higher.drop_duplicates()) \n",
    "data.higher = le.transform(data.higher)\n",
    "#romantic\n",
    "le.fit(data.romantic.drop_duplicates()) \n",
    "data.romantic = le.transform(data.romantic)\n",
    "#internet\n",
    "le.fit(data.internet.drop_duplicates()) \n",
    "data.internet = le.transform(data.internet)"
   ]
  },
  {
   "cell_type": "code",
   "execution_count": null,
   "metadata": {
    "_uuid": "c524320c2fb31ed9e1025a5f32b2e77ec22b2b29"
   },
   "outputs": [],
   "source": [
    "#not binary features\n",
    "data = data.drop([\"st_time\"], axis = 1) #I created this column for one of the graphs\n"
   ]
  },
  {
   "cell_type": "code",
   "execution_count": null,
   "metadata": {
    "_uuid": "d5dbadeac1aa06a8793f3330835dff07a11a0103"
   },
   "outputs": [],
   "source": [
    "#not binary features\n",
    "data= pd.get_dummies(data)"
   ]
  },
  {
   "cell_type": "code",
   "execution_count": null,
   "metadata": {
    "_uuid": "7a4ec3c28641edf123e294df00c8f6de81b60731"
   },
   "outputs": [],
   "source": [
    "data.head()"
   ]
  },
  {
   "cell_type": "markdown",
   "metadata": {
    "_uuid": "3088d20979fc45b7dd953c0b09617f869a62e8c8"
   },
   "source": [
    "I will look at the correlation between the features I am interested in. You can always look at all the fealures - \"data.corr()\" :D"
   ]
  },
  {
   "cell_type": "code",
   "execution_count": null,
   "metadata": {
    "_uuid": "0576718d880167ae5d8634cbb9cfe83201212b50"
   },
   "outputs": [],
   "source": [
    "plt.figure(figsize=(20,9))\n",
    "cols = ['Dalc','Walc','G3','G2', 'G1','studytime','romantic','internet','age','sex','Pstatus']\n",
    "cm = np.corrcoef(data[cols].values.T)\n",
    "sns.set(font_scale = 1.2)\n",
    "hm = sns.heatmap(cm,cbar = True, annot = True,square = True, fmt = '.2f', annot_kws = {'size':15}, yticklabels = cols, xticklabels = cols)"
   ]
  },
  {
   "cell_type": "markdown",
   "metadata": {
    "_uuid": "2bcc1136db38c4fb2948f6a3e3f0367f19754129"
   },
   "source": [
    "Well... Who studied well the first two periods, he got a good grade! lol This is indicated by the correlation coefficient.\n",
    "But above we have considered almost all the features and can draw other conclusions.\n",
    "\n",
    "Is there a secret of excellent grades? Certainly. And as we have seen it is to give enough time to study, not to miss classes, remember that you can not give 100% of the time to the beloved and so on.\n",
    "And of course not to abuse alcohol on weekdays. What about the weekend? Science gives us the right to relax on weekends!\n"
   ]
  },
  {
   "cell_type": "markdown",
   "metadata": {
    "_uuid": "29f2ea1773b0ed554a05400f307222c7dbd20cbf"
   },
   "source": [
    "I was very interested in whether it is possible to predict the students ' grades according to the available data. My usual linear regression was 0.79. Maybe you will create a perfect model!\n",
    "Thank you so much for staying awake while you read my kernel :D"
   ]
  }
 ],
 "metadata": {
  "kernelspec": {
   "display_name": "Python 3",
   "language": "python",
   "name": "python3"
  },
  "language_info": {
   "codemirror_mode": {
    "name": "ipython",
    "version": 3
   },
   "file_extension": ".py",
   "mimetype": "text/x-python",
   "name": "python",
   "nbconvert_exporter": "python",
   "pygments_lexer": "ipython3",
   "version": "3.7.4"
  }
 },
 "nbformat": 4,
 "nbformat_minor": 1
}
