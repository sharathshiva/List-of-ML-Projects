{
 "cells": [
  {
   "cell_type": "code",
   "execution_count": null,
   "metadata": {
    "_cell_guid": "b1076dfc-b9ad-4769-8c92-a6c4dae69d19",
    "_uuid": "8f2839f25d086af736a60e9eeb907d3b93b6e0e5"
   },
   "outputs": [],
   "source": [
    "import numpy as np # linear algebra\n",
    "import pandas as pd # data processing, CSV file I/O (e.g. pd.read_csv)\n",
    "import seaborn as sns\n",
    "import matplotlib.pyplot as plt\n",
    "%config InlineBackend.figure_format = 'svg'\n",
    "import os\n",
    "import warnings\n",
    "warnings.simplefilter('ignore')\n",
    "from mpl_toolkits.basemap import Basemap\n",
    "print(os.listdir(\"../input\"))"
   ]
  },
  {
   "cell_type": "code",
   "execution_count": null,
   "metadata": {
    "_cell_guid": "79c7e3d0-c299-4dcb-8224-4455121ee9b0",
    "_uuid": "d629ff2d2480ee46fbb7e2d37f6b5fab8052498a"
   },
   "outputs": [],
   "source": [
    "df = pd.read_csv('../input/craigslistVehiclesFull.csv')"
   ]
  },
  {
   "cell_type": "code",
   "execution_count": null,
   "metadata": {
    "_uuid": "0167d222a24a88b9db7143c2c91a2552a2ff930a"
   },
   "outputs": [],
   "source": [
    "df.head()"
   ]
  },
  {
   "cell_type": "markdown",
   "metadata": {
    "_uuid": "e5f7988bb0ae55c9dcdf3e643f46a8195cde7ca4"
   },
   "source": [
    "### Latitude & Longitude\n",
    "Lets see where most the data points are originating. I've shuffled the data and taken 10,000 points."
   ]
  },
  {
   "cell_type": "code",
   "execution_count": null,
   "metadata": {
    "_uuid": "e45cb78a59b761a28da0a92809ded906ce3055a0"
   },
   "outputs": [],
   "source": [
    "df_shuffled = df.sample(frac=1)\n",
    "df_shuffled.head()\n",
    "plt.figure(figsize=(12,6))\n",
    "m = Basemap(projection='mill',\n",
    "            llcrnrlat = 25,\n",
    "            llcrnrlon = -170,\n",
    "            urcrnrlat = 80,\n",
    "            urcrnrlon = -60,\n",
    "            resolution='l')\n",
    "m.drawcoastlines()\n",
    "m.drawcountries(linewidth=2)\n",
    "m.drawstates(color='b')\n",
    "i = 0\n",
    "for index, row in df_shuffled.iterrows():\n",
    "    lat = row['lat']\n",
    "    lon = row['long']\n",
    "    xpt, ypt = m(lon, lat)\n",
    "    m.plot(xpt,ypt,'.',markersize=0.2,c=\"red\")\n",
    "    # stopping criteria\n",
    "    i = i + 1\n",
    "    if (i == 10000): break\n"
   ]
  },
  {
   "cell_type": "markdown",
   "metadata": {
    "_uuid": "49f0d42874818eadce07235dcdb8557f4c84617f"
   },
   "source": [
    "### Price"
   ]
  },
  {
   "cell_type": "code",
   "execution_count": null,
   "metadata": {
    "_uuid": "92e818297840f5c0496fa22946245f38e42cba61"
   },
   "outputs": [],
   "source": [
    "print (\"Top 10 most used price points:\")\n",
    "print (df['price'].value_counts().iloc[:10])"
   ]
  },
  {
   "cell_type": "code",
   "execution_count": null,
   "metadata": {
    "_uuid": "b66fd8cd545a6732ef3063fa4f2c696b77e1f50b"
   },
   "outputs": [],
   "source": [
    "print (df.price.describe())"
   ]
  },
  {
   "cell_type": "code",
   "execution_count": null,
   "metadata": {
    "_uuid": "ae6610fd25fc9aef498f6cf0fabade5735376f6c"
   },
   "outputs": [],
   "source": [
    "df.shape"
   ]
  },
  {
   "cell_type": "code",
   "execution_count": null,
   "metadata": {
    "_uuid": "c63cca317248f0b25783775ee0cfc60f43d2ce0b"
   },
   "outputs": [],
   "source": [
    "df.drop(df[df.price > 150000].index, inplace = True)"
   ]
  },
  {
   "cell_type": "code",
   "execution_count": null,
   "metadata": {
    "_uuid": "ca24beb497638acb2db9b1f51cafb083535f55d6"
   },
   "outputs": [],
   "source": [
    "df.shape"
   ]
  },
  {
   "cell_type": "code",
   "execution_count": null,
   "metadata": {
    "_uuid": "834a3fa8acd66db2d4ec313e9f1aa63b98dec97e"
   },
   "outputs": [],
   "source": [
    "plt.figure(figsize=(3,6))\n",
    "sns.boxplot(y='price', data=df,showfliers=False);"
   ]
  },
  {
   "cell_type": "markdown",
   "metadata": {
    "_uuid": "2c6d0377c29e66b31985d8a0dbaa856c3b71820b"
   },
   "source": [
    "Note that in the above box plot, the outlies havent been show. If you want to see the plot with the outliers or even the violin plot of the df['prices'] you can un comment the following lines. Cavet: the plots are extremly skewed becuase of the outliers."
   ]
  },
  {
   "cell_type": "code",
   "execution_count": null,
   "metadata": {
    "_uuid": "fc4aef6284f04c10272ecfff0cce108d0d01dc13"
   },
   "outputs": [],
   "source": [
    "# sns.boxplot(y='price', data=df);\n",
    "# sns.violinplot(y='price', data=df);"
   ]
  },
  {
   "cell_type": "markdown",
   "metadata": {
    "_uuid": "efeaff479a4b9536041c6122f0c754a6825837f1"
   },
   "source": [
    "### City"
   ]
  },
  {
   "cell_type": "code",
   "execution_count": null,
   "metadata": {
    "_uuid": "c46f7fc6f8bea492fa60e6cd9434c338f283f79a"
   },
   "outputs": [],
   "source": [
    "print (\"Number of cities :\" + str(len(df['city'].unique())))"
   ]
  },
  {
   "cell_type": "code",
   "execution_count": null,
   "metadata": {
    "_uuid": "56b7f6f4e202d1444d563600edab16479f1a9bf2"
   },
   "outputs": [],
   "source": [
    "print ('Top 10 cities:')\n",
    "print (df['city'].value_counts().iloc[:10])"
   ]
  },
  {
   "cell_type": "markdown",
   "metadata": {
    "_uuid": "4fc31166cce0d6e94a7c33bd0e9105cecb9add3c"
   },
   "source": [
    "Anchorage seems to have a peculiarly high number. Almost twice the one on the second place!"
   ]
  },
  {
   "cell_type": "code",
   "execution_count": null,
   "metadata": {
    "_uuid": "5ff05db67f07d2f580f35e3afefe75ca856bd431"
   },
   "outputs": [],
   "source": [
    "# print ('Listing for the least 5 cities:')\n",
    "# print (df['city'].value_counts().iloc[-5:])"
   ]
  },
  {
   "cell_type": "code",
   "execution_count": null,
   "metadata": {
    "_uuid": "ca8b4af2bbcfde58edbb07a0f4151af65e3d19fc"
   },
   "outputs": [],
   "source": [
    "plt.figure(figsize=(10,6))\n",
    "ax = sns.countplot(x='city',data=df,order=df['city'].value_counts().index);\n",
    "ax.set_xticklabels(ax.get_xticklabels(), fontsize=0);"
   ]
  },
  {
   "cell_type": "markdown",
   "metadata": {
    "_uuid": "e8fa34cb541eb5fde42d1fefa1aad00d5158920a"
   },
   "source": [
    "### Year"
   ]
  },
  {
   "cell_type": "code",
   "execution_count": null,
   "metadata": {
    "_uuid": "eee75755e4f8b4403cd73fb2555c4df01d634392"
   },
   "outputs": [],
   "source": [
    "print ('Top 10 car manufacturing years:')\n",
    "print (df['year'].value_counts().iloc[:10])"
   ]
  },
  {
   "cell_type": "markdown",
   "metadata": {
    "_uuid": "42cba60f11c7a46af94b049e2c220ea259b01b54"
   },
   "source": [
    "By reading through the wikipedia page of [Automotive industry in the United States](http://en.wikipedia.org/wiki/Automotive_industry_in_the_United_States) It seems that the car sales grew to large numbers during the 1960s. I will reduce the dataset further here and ignore years <1960."
   ]
  },
  {
   "cell_type": "code",
   "execution_count": null,
   "metadata": {
    "_uuid": "d2a9bb7808d10eeae3ce75503fea6b900e7f855a"
   },
   "outputs": [],
   "source": [
    "init = df.shape"
   ]
  },
  {
   "cell_type": "code",
   "execution_count": null,
   "metadata": {
    "_uuid": "2ed6f8d6274c6851290f393f71d6133cacb247d2"
   },
   "outputs": [],
   "source": [
    "df.drop(df[df.year < 1960].index, inplace = True)"
   ]
  },
  {
   "cell_type": "code",
   "execution_count": null,
   "metadata": {
    "_uuid": "be4f494e7465c70b45a61309cf3d3de92ec92541"
   },
   "outputs": [],
   "source": [
    "removed_rows = init[0] - df.shape[0];\n",
    "# print (removed_rows)\n",
    "print (\"No. of rows removed = \" + str(removed_rows))"
   ]
  },
  {
   "cell_type": "code",
   "execution_count": null,
   "metadata": {
    "_uuid": "6383a5218a9becfe5e416d0951028c21b1354b02"
   },
   "outputs": [],
   "source": [
    "plt.figure(figsize=(10,6))\n",
    "ax = sns.countplot(x='year',data=df);\n",
    "ax.set_xticklabels(ax.get_xticklabels(), rotation=90, ha=\"right\",fontsize=6);"
   ]
  },
  {
   "cell_type": "markdown",
   "metadata": {
    "_uuid": "2674d54c5c0242f1042a867422c4f7e5552767a3"
   },
   "source": [
    "The graph indicates a decrese in listings of 2009 car models. Could this be due to the recession? Maybe people didnt buy many cars in 2009 due to economic troubles and consequently, there are lesser cars made in 2009 for sale ."
   ]
  },
  {
   "cell_type": "markdown",
   "metadata": {
    "_uuid": "ac7fc5e7c51e7cd54ec5a6eb39839a90f71b80f5"
   },
   "source": [
    "### Manufacturer"
   ]
  },
  {
   "cell_type": "code",
   "execution_count": null,
   "metadata": {
    "_uuid": "15aa4d9f135b299cb7064e2ce007a253641f3a44"
   },
   "outputs": [],
   "source": [
    "print (\"The unique manufacturers we have are:\")\n",
    "print (df['manufacturer'].unique())"
   ]
  },
  {
   "cell_type": "code",
   "execution_count": null,
   "metadata": {
    "_uuid": "edabc7eaffa1dae5d184254966125a1119effbd3"
   },
   "outputs": [],
   "source": [
    "plt.figure(figsize=(10,6))\n",
    "ax = sns.countplot(x='manufacturer',data=df);\n",
    "ax.set_xticklabels(ax.get_xticklabels(), rotation=90, ha=\"right\",fontsize=8);\n",
    "plt.title(\"Manufacturers vs no. of listings\")"
   ]
  },
  {
   "cell_type": "code",
   "execution_count": null,
   "metadata": {
    "_uuid": "c6c46596b3b4457df36a5519708d3dc87e2b4fe7"
   },
   "outputs": [],
   "source": [
    "# (df.groupby(['manufacturer'])['price']).mean().sort_values(ascending=False)\n",
    "plt.figure(figsize=(10,6))\n",
    "ax = sns.barplot(x='manufacturer', y='price', data=df);\n",
    "ax.set_xticklabels(ax.get_xticklabels(), rotation=90, ha=\"right\",fontsize=8);\n",
    "plt.title(\"Car manufacturer vs avergae price\");"
   ]
  },
  {
   "cell_type": "code",
   "execution_count": null,
   "metadata": {
    "_uuid": "2d995c7434dfa0334e13cbb08942439cb37efc05"
   },
   "outputs": [],
   "source": [
    "df_shuffled = df.sample(frac=1)\n",
    "df_shuffled.head()"
   ]
  },
  {
   "cell_type": "code",
   "execution_count": null,
   "metadata": {
    "_uuid": "cc4478ed401bf220705287bcef45d52f9a72ddbd"
   },
   "outputs": [],
   "source": [
    "plt.figure(figsize=(12,6))\n",
    "m = Basemap(projection='mill',\n",
    "            llcrnrlat = 25,\n",
    "            llcrnrlon = -170,\n",
    "            urcrnrlat = 80,\n",
    "            urcrnrlon = -60,\n",
    "            resolution='l')\n",
    "m.drawcoastlines()\n",
    "m.drawcountries(linewidth=2)\n",
    "m.drawstates(color='b')\n",
    "i = 0\n",
    "for index, row in df_shuffled.iterrows():\n",
    "    lat = row['lat']\n",
    "    lon = row['long']\n",
    "    xpt, ypt = m(lon, lat)\n",
    "    m.plot(xpt,ypt,'.',markersize=0.2,c=\"red\")\n",
    "    # stopping criteria\n",
    "    i = i + 1\n",
    "    if (i == 10000): break"
   ]
  }
 ],
 "metadata": {
  "kernelspec": {
   "display_name": "Python 3",
   "language": "python",
   "name": "python3"
  },
  "language_info": {
   "codemirror_mode": {
    "name": "ipython",
    "version": 3
   },
   "file_extension": ".py",
   "mimetype": "text/x-python",
   "name": "python",
   "nbconvert_exporter": "python",
   "pygments_lexer": "ipython3",
   "version": "3.7.4"
  }
 },
 "nbformat": 4,
 "nbformat_minor": 1
}
